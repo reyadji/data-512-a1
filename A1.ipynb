{
 "cells": [
  {
   "cell_type": "markdown",
   "metadata": {},
   "source": [
    "# A1 Data Curation\n",
    "\n",
    "The goal is to construct, analyze, and publish a dataset of monthly traffic on English Wikipedia from July 1 2008 - September 30 2017"
   ]
  },
  {
   "cell_type": "markdown",
   "metadata": {},
   "source": [
    "The section below is to establish shared variables and library among different stages"
   ]
  },
  {
   "cell_type": "code",
   "execution_count": 1,
   "metadata": {},
   "outputs": [],
   "source": [
    "import pprint\n",
    "import requests\n",
    "import json\n",
    "\n",
    "# Global variables\n",
    "pagecounts_url = 'https://wikimedia.org/api/rest_v1/metrics/legacy/{apiname}/aggregate/en.wikipedia.org/{access}/monthly/{start}/{end}'\n",
    "pageviews_url = 'https://wikimedia.org/api/rest_v1/metrics/{apiname}/aggregate/en.wikipedia.org/{access}/{agent}/monthly/{start}/{end}'\n",
    "my_github = 'reyadji'\n",
    "my_email = 'adjir@uw.edu'\n",
    "default_params = {\n",
    "    'apiname': 'pageviews',\n",
    "    'access': 'mobile-web', \n",
    "    'agent': 'spider', \n",
    "    'start': '2008010100', \n",
    "    'end': '2016060100'}\n",
    "json_files = []\n",
    "\n",
    "\n",
    "def wikipedia_query(params=default_params):\n",
    "    headers = {\n",
    "        'User-Agent': 'https://github.com/{}'.format(my_github), \n",
    "        'From': my_email}\n",
    "    url = ''\n",
    "    if params['apiname'] is 'pageviews':\n",
    "        url = pageviews_url\n",
    "        params['start'] = '2015070100'\n",
    "        params['end'] = '2017100100'\n",
    "    elif params['apiname'] is 'pagecounts':\n",
    "        url = pagecounts_url\n",
    "        params['start'] = '2008010100'\n",
    "        params['end'] = '2016080100'\n",
    "    r = requests.get(url.format(**params), headers=headers)\n",
    "#     print('URL: {}'.format(r.uri))\n",
    "    print('Response status code: {}'.format(r.status_code))\n",
    "#     print('Response JSON: {}'.format(pprint.pprint(r.json())))\n",
    "    return r\n",
    "\n",
    "\n",
    "def store_to_json(params, r):\n",
    "    params['firstmonth'] = params['start'][:-2]\n",
    "    params['lastmonth'] = params['end'][:-2]\n",
    "    filename = '{apiname}_{access}_{firstmonth}-{lastmonth}.json'.format(**params)\n",
    "    with open(filename, 'w+') as f:\n",
    "        json.dump(r.json()['items'], f, indent=4)\n",
    "    json_files.append(filename)\n",
    "\n",
    "    \n",
    "def load_json(file):\n",
    "    with open(file, 'r') as f:\n",
    "        return json.load(f)"
   ]
  },
  {
   "cell_type": "markdown",
   "metadata": {},
   "source": [
    "## Stage 1. Data Acquisition\n",
    "\n",
    "Collect all months traffic data using two different Wikimedia REST API endpoints, Pagecounts and Pageviews, for both mobile and desktop (excluding spider bot).\n",
    "Output is 5 JSON files:\n",
    "1. pagecounts desktop\n",
    "2. pagecounts mobile\n",
    "3. pageview desktop\n",
    "4. pageview mobile web\n",
    "5. pageview mobile app"
   ]
  },
  {
   "cell_type": "code",
   "execution_count": 2,
   "metadata": {},
   "outputs": [
    {
     "name": "stdout",
     "output_type": "stream",
     "text": [
      "Response status code: 200\n",
      "Number of items: 103\n",
      "Response status code: 200\n",
      "Number of items: 22\n",
      "Response status code: 200\n",
      "Number of items: 27\n",
      "Response status code: 200\n",
      "Number of items: 27\n",
      "Response status code: 200\n",
      "Number of items: 27\n",
      "JSON files: P['pagecounts_desktop-site_20080101-20160801.json', 'pagecounts_mobile-site_20080101-20160801.json', 'pageviews_desktop_20150701-20171001.json', 'pageviews_mobile-app_20150701-20171001.json', 'pageviews_mobile-web_20150701-20171001.json']\n"
     ]
    }
   ],
   "source": [
    "pc_desk_params = {\n",
    "    'apiname': 'pagecounts',\n",
    "    'access': 'desktop-site',\n",
    "    'agent': ''}\n",
    "r = wikipedia_query(pc_desk_params)\n",
    "store_to_json(pc_desk_params, r)\n",
    "print('Number of items: {}'.format(len(r.json()['items'])))\n",
    "\n",
    "pc_mob_params = {\n",
    "    'apiname': 'pagecounts',\n",
    "    'access': 'mobile-site',\n",
    "    'agent': ''}\n",
    "r = wikipedia_query(pc_mob_params)\n",
    "store_to_json(pc_mob_params, r)\n",
    "print('Number of items: {}'.format(len(r.json()['items'])))\n",
    "\n",
    "pv_desk_params = {\n",
    "    'apiname': 'pageviews',\n",
    "    'access': 'desktop',\n",
    "    'agent': 'user'}\n",
    "r = wikipedia_query(pv_desk_params)\n",
    "store_to_json(pv_desk_params, r)\n",
    "print('Number of items: {}'.format(len(r.json()['items'])))\n",
    "\n",
    "pv_mobapp_params = {\n",
    "    'apiname': 'pageviews',\n",
    "    'access': 'mobile-app',\n",
    "    'agent': 'user'}\n",
    "r = wikipedia_query(pv_mobapp_params)\n",
    "store_to_json(pv_mobapp_params, r)\n",
    "print('Number of items: {}'.format(len(r.json()['items'])))\n",
    "\n",
    "pv_mobweb_params = {\n",
    "    'apiname': 'pageviews',\n",
    "    'access': 'mobile-web',\n",
    "    'agent': 'user'}\n",
    "r = wikipedia_query(pv_mobweb_params)\n",
    "store_to_json(pv_mobweb_params, r)\n",
    "print('Number of items: {}'.format(len(r.json()['items'])))\n",
    "\n",
    "print('JSON files: P{}'.format(json_files))\n",
    "\n"
   ]
  },
  {
   "cell_type": "markdown",
   "metadata": {},
   "source": [
    "The first step is to query each Wikipedia Rest API endpoint using $wikipedia_query$ function with different parameter combination. Each response then saved to a json file using $store_to_json$ function. Print statements are used to debug the number of items the response returns with. \n",
    "Two JSON files from two extra queries (all views for each API) are also produced to help with data processing in the next stage."
   ]
  },
  {
   "cell_type": "markdown",
   "metadata": {},
   "source": [
    "## Stage 2. Data Processing\n",
    "\n",
    "Process these data files to prepare them for analysis by combining each JSON file into a single CSV file with these headers:\n",
    "- year\n",
    "- month\n",
    "- pagecount_all_views\n",
    "- pagecount_desktop_views\n",
    "- pagecount_mobile_views\n",
    "- pageview_all_views\n",
    "- pageview_desktop_views\n",
    "- pageview_mobile_views"
   ]
  },
  {
   "cell_type": "code",
   "execution_count": 3,
   "metadata": {},
   "outputs": [],
   "source": [
    "import csv\n",
    "import pandas as pd\n",
    "\n",
    "csv_file = 'en-wikipedia_traffic_200801-201709.csv'\n",
    "\n",
    "headers = [\n",
    "    'timestamp',\n",
    "    'year',\n",
    "    'month',\n",
    "    'pagecounts_all_views',\n",
    "    'pagecounts_desktop_views',\n",
    "    'pagecounts_mobile_views',\n",
    "    'pageviews_all_views',\n",
    "    'pageviews_desktop_views',\n",
    "    'pageviews_mobile_views']\n",
    "\n",
    "def load_df(file):\n",
    "    apiname = file.split('_')[0]\n",
    "    accesstype = file.split('_')[1].split('-')[0]\n",
    "    column = apiname + '_' + accesstype + '_views'\n",
    "    with open(file, 'r') as f:\n",
    "        views = json.load(f)\n",
    "    data = pd.DataFrame.from_dict(views)\n",
    "    if apiname == 'pageviews':\n",
    "        data = data.drop(['access','agent','granularity','project'], axis=1)\n",
    "        data = data.rename(columns = {'views': column})\n",
    "    #                 if 'mobile' in view['access']:\n",
    "    else:\n",
    "        data = data.drop(['access-site', 'granularity','project'], axis=1)\n",
    "        data = data.rename(columns = {'count': column})\n",
    "    return data\n",
    "\n",
    "\n",
    "df = pd.DataFrame()\n",
    "for i in json_files:\n",
    "    # Load json file to pandas dataframe\n",
    "    data = load_df(i)\n",
    "    if len(df) == 0:\n",
    "        df = data.copy(True)\n",
    "    else:\n",
    "        df = df.merge(data, on='timestamp', how='outer')\n",
    "\n",
    "# Create year and month out of timestamp attribute\n",
    "df = df.assign(year=df.timestamp.str[0:4])\n",
    "df = df.assign(month=df.timestamp.str[4:6])\n",
    "df.timestamp = df.timestamp.str[:-2]\n",
    "\n",
    "# Combining two pageviews_mobile_views columns, one from mobile-app, and the other from mobile-web\n",
    "df = df.assign(pageviews_mobile_views= lambda x: x.pageviews_mobile_views_x + x.pageviews_mobile_views_y)\n",
    "df = df.drop(['pageviews_mobile_views_x', 'pageviews_mobile_views_y'], axis=1)\n",
    "\n",
    "# Sum mobile and desktop to get all views\n",
    "df = df.assign(pageviews_all_views= lambda x: x.pageviews_mobile_views + x.pageviews_desktop_views)\n",
    "df = df.assign(pagecounts_all_views= lambda x: x.pagecounts_mobile_views + x.pagecounts_desktop_views)\n",
    "df = df.fillna(value=0)\n",
    "\n",
    "df.to_csv(csv_file, columns=headers, index = False)\n",
    "        \n",
    "        "
   ]
  },
  {
   "cell_type": "markdown",
   "metadata": {},
   "source": [
    "There are two basicways to combine number of views from pageviews and pagecounts API: using Pandas library or using Python built-in library. I found out it is very difficult to pivot from the JSON files to year and month using Python built-in basic library. On the other hand, pandas provide a nice way to mung the data. Each JSON file is loaded to a pandas dataframe, all of which is merged on timestamp to a single dataframe. Year and month are derived from the timestamp, and pageviews' mobile app and mobile web numbers are combined. Mobile and desktop views are summed to get pagecounts' and apgeviews' all views. Finally, I replaced all non-existant value with 0 before saving the dataframe to a CSV file.   "
   ]
  },
  {
   "cell_type": "markdown",
   "metadata": {},
   "source": [
    "## Stage 3. Analysis\n",
    "\n",
    "Visualize the dataset as a time series graph. This will include mobile, desktop, and combined (mobile+desktop) traffic."
   ]
  },
  {
   "cell_type": "code",
   "execution_count": 7,
   "metadata": {},
   "outputs": [
    {
     "data": {
      "text/plain": [
       "<matplotlib.figure.Figure at 0x10fc25a90>"
      ]
     },
     "metadata": {},
     "output_type": "display_data"
    },
    {
     "data": {
      "text/plain": [
       "<matplotlib.figure.Figure at 0x1071cedd8>"
      ]
     },
     "metadata": {},
     "output_type": "display_data"
    },
    {
     "data": {
      "image/png": "[encoded data removed]",
      "text/plain": [
       "<matplotlib.figure.Figure at 0x11080e240>"
      ]
     },
     "metadata": {},
     "output_type": "display_data"
    }
   ],
   "source": [
    "import matplotlib\n",
    "import matplotlib.pyplot as plt\n",
    "matplotlib.style.use('ggplot')\n",
    "    \n",
    "csv_file = 'en-wikipedia_traffic_200801-201709.csv'\n",
    "\n",
    "# Read the CSV file to pandas dataframe in which the 'timestamp' column is the new index \n",
    "df = pd.read_csv(csv_file, index_col=0, parse_dates=[0], infer_datetime_format=True)\n",
    "# Drop year and month columns since it's not needed for plotting\n",
    "df = df.drop(['year','month'], axis=1)\n",
    "\n",
    "plt.figure()\n",
    "df.plot()\n",
    "\n",
    "plt.xlabel('datetime')\n",
    "plt.ylabel('views (in 10 millions)')\n",
    "plt.title('Wikipedia Traffic Data')\n",
    "plt.legend()\n",
    "plt.savefig('en-wikipedia_traffic_200801-201709.png')\n",
    "plt.show()\n",
    "\n",
    "    \n",
    "    \n"
   ]
  },
  {
   "cell_type": "markdown",
   "metadata": {},
   "source": [
    "I use ggplot style since to plot Wikipedia traffic line chart since it's aesthetically more pleasing than the basic pyplot. The first step is to load the CSV file generated at previous stage to a pandas dataframe. After dropping unnecessary columns (year and month), it's pretty straight-forward to plot and label pagecounts_all_views, pagecounts_desktop_views, pagecounts_mobile_views, pageviews_all_views, pageviews_desktop_views, and pageviews_mobile_views numbers. Finally, the figure is saved to the a png file."
   ]
  }
 ],
 "metadata": {
  "kernelspec": {
   "display_name": "Python 3",
   "language": "python",
   "name": "python3"
  },
  "language_info": {
   "codemirror_mode": {
    "name": "ipython",
    "version": 3
   },
   "file_extension": ".py",
   "mimetype": "text/x-python",
   "name": "python",
   "nbconvert_exporter": "python",
   "pygments_lexer": "ipython3",
   "version": "3.6.1"
  }
 },
 "nbformat": 4,
 "nbformat_minor": 2
}
